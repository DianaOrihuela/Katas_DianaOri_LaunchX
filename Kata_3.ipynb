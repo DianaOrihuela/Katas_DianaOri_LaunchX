{
 "cells": [
  {
   "cell_type": "markdown",
   "metadata": {},
   "source": [
    "## Un asteroide se acerca, y viaja a una velocidad de 49 km/s."
   ]
  },
  {
   "cell_type": "code",
   "execution_count": 1,
   "metadata": {},
   "outputs": [
    {
     "name": "stdout",
     "output_type": "stream",
     "text": [
      "¡Un asteroide se acerca a velocidades mayores a 25 km/s!\n"
     ]
    }
   ],
   "source": [
    "asteroide = 49\n",
    "if asteroide <= 25:\n",
    "    print('Sigue con tu día')\n",
    "else:\n",
    "    print('¡Un asteroide se acerca a velocidades mayores a 25 km/s!')"
   ]
  },
  {
   "cell_type": "markdown",
   "metadata": {},
   "source": [
    "# Informacion más matizada"
   ]
  },
  {
   "cell_type": "code",
   "execution_count": 15,
   "metadata": {},
   "outputs": [
    {
     "name": "stdout",
     "output_type": "stream",
     "text": [
      "¡Un asteroide se acerca a velocidades mayores a 25 km/s!\n"
     ]
    }
   ],
   "source": [
    "velocidad = 40\n",
    "tamaño = 20\n",
    "\n",
    "if tamaño>25 and tamaño<100:\n",
    "    print('El asteroide que se aproxima es mayor a 25 metros, causara daños severos sobre la Tierra')\n",
    "elif velocidad>25: \n",
    "    print('¡Un asteroide se acerca a velocidades mayores a 25 km/s!')\n",
    "elif velocidad >=20 and velocidad<25:\n",
    "    print('Mira el rayo de luz en el cielo :D')\n",
    "else:\n",
    "    print('Disfrute su día')"
   ]
  }
 ],
 "metadata": {
  "interpreter": {
   "hash": "85698077abecf5f8f113c53b9360fbacc8ad19c08c5e26cc1c8a281d6153204f"
  },
  "kernelspec": {
   "display_name": "Python 3.10.2 64-bit",
   "language": "python",
   "name": "python3"
  },
  "language_info": {
   "codemirror_mode": {
    "name": "ipython",
    "version": 3
   },
   "file_extension": ".py",
   "mimetype": "text/x-python",
   "name": "python",
   "nbconvert_exporter": "python",
   "pygments_lexer": "ipython3",
   "version": "3.10.2"
  },
  "orig_nbformat": 4
 },
 "nbformat": 4,
 "nbformat_minor": 2
}
