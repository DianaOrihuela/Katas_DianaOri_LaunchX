{
 "cells": [
  {
   "cell_type": "code",
   "execution_count": 1,
   "metadata": {},
   "outputs": [
    {
     "name": "stdout",
     "output_type": "stream",
     "text": [
      "Couldn't find the config.txt file!\n"
     ]
    }
   ],
   "source": [
    "def main():\n",
    "    try:\n",
    "        configuration = open('config.txt')\n",
    "    except FileNotFoundError:\n",
    "        print(\"Couldn't find the config.txt file!\")\n",
    "\n",
    "\n",
    "if __name__ == '__main__':\n",
    "    main()"
   ]
  },
  {
   "cell_type": "code",
   "execution_count": 26,
   "metadata": {},
   "outputs": [],
   "source": [
    "def main():\n",
    "    try:\n",
    "        configuration = open('config.ipynb')\n",
    "    except FileNotFoundError:\n",
    "        print(\"Couldn't find the config.txt file!\")\n",
    "\n",
    "\n",
    "if __name__ == '__main__':\n",
    "    main()"
   ]
  },
  {
   "cell_type": "code",
   "execution_count": 27,
   "metadata": {},
   "outputs": [],
   "source": [
    "def main():\n",
    "    try:\n",
    "        configuration = open('config.txt')\n",
    "    except Exception:\n",
    "        print(\"Couldn't find the config.txt file!\")"
   ]
  },
  {
   "cell_type": "code",
   "execution_count": 28,
   "metadata": {},
   "outputs": [],
   "source": [
    "def main():\n",
    "    try:\n",
    "        configuration = open('config.txt')\n",
    "    except FileNotFoundError:\n",
    "        print(\"Couldn't find the config.txt file!\")\n",
    "    except IsADirectoryError:\n",
    "        print(\"Found config.txt but it is a directory, couldn't read it\")"
   ]
  },
  {
   "cell_type": "code",
   "execution_count": 29,
   "metadata": {},
   "outputs": [],
   "source": [
    "def main():\n",
    "    try:\n",
    "        configuration = open('config.txt')\n",
    "    except FileNotFoundError:\n",
    "        print(\"Couldn't find the config.txt file!\")\n",
    "    except IsADirectoryError:\n",
    "        print(\"Found config.txt but it is a directory, couldn't read it\")\n",
    "    except (BlockingIOError, TimeoutError):\n",
    "        print(\"Filesystem under heavy load, can't complete reading configuration file\")"
   ]
  },
  {
   "cell_type": "code",
   "execution_count": 30,
   "metadata": {},
   "outputs": [
    {
     "name": "stdout",
     "output_type": "stream",
     "text": [
      "got a problem trying to read the file: [Errno 2] No such file or directory: 'mars.jpg'\n"
     ]
    }
   ],
   "source": [
    ">>> try:\n",
    "...     open(\"mars.jpg\")\n",
    "... except FileNotFoundError as err:\n",
    "...     print(\"got a problem trying to read the file:\", err)\n",
    "..."
   ]
  },
  {
   "cell_type": "code",
   "execution_count": 31,
   "metadata": {},
   "outputs": [
    {
     "name": "stdout",
     "output_type": "stream",
     "text": [
      "Couldn't find the config.txt file!\n"
     ]
    }
   ],
   "source": [
    ">>> try:\n",
    "...     open(\"config.txt\")\n",
    "... except OSError as err:\n",
    "...     if err.errno == 2:\n",
    "...         print(\"Couldn't find the config.txt file!\")\n",
    "...     elif err.errno == 13:\n",
    "...         print(\"Found config.txt but couldn't read it\")\n",
    "..."
   ]
  },
  {
   "cell_type": "markdown",
   "metadata": {},
   "source": [
    "## Generación de excepciones"
   ]
  },
  {
   "cell_type": "code",
   "execution_count": 14,
   "metadata": {},
   "outputs": [
    {
     "name": "stdout",
     "output_type": "stream",
     "text": [
      "Total water left after 2 days is: -10 liters\n"
     ]
    }
   ],
   "source": [
    "def water_left(astronauts, water_left, days_left):\n",
    "    daily_usage = astronauts * 11\n",
    "    total_usage = daily_usage * days_left\n",
    "    total_water_left = water_left - total_usage\n",
    "    return f\"Total water left after {days_left} days is: {total_water_left} liters\"\n",
    "\n",
    "print (water_left(5, 100, 2))"
   ]
  },
  {
   "cell_type": "code",
   "execution_count": 15,
   "metadata": {},
   "outputs": [],
   "source": [
    "def water_left(astronauts, water_left, days_left):\n",
    "    daily_usage = astronauts * 11\n",
    "    total_usage = daily_usage * days_left\n",
    "    total_water_left = water_left - total_usage\n",
    "    if total_water_left < 0:\n",
    "        raise RuntimeError(f\"There is not enough water for {astronauts} astronauts after {days_left} days!\")\n",
    "    return f\"Total water left after {days_left} days is: {total_water_left} liters\""
   ]
  },
  {
   "cell_type": "code",
   "execution_count": 21,
   "metadata": {},
   "outputs": [
    {
     "ename": "NameError",
     "evalue": "name 'alert_navigation_system' is not defined",
     "output_type": "error",
     "traceback": [
      "\u001b[1;31m---------------------------------------------------------------------------\u001b[0m",
      "\u001b[1;31mRuntimeError\u001b[0m                              Traceback (most recent call last)",
      "\u001b[1;32mc:\\Users\\Diana\\Documents\\Tareas Curso\\config.ipynb Cell 11'\u001b[0m in \u001b[0;36m<module>\u001b[1;34m\u001b[0m\n\u001b[0;32m      <a href='vscode-notebook-cell:/c%3A/Users/Diana/Documents/Tareas%20Curso/config.ipynb#ch0000011?line=0'>1</a>\u001b[0m \u001b[39mtry\u001b[39;00m:\n\u001b[1;32m----> <a href='vscode-notebook-cell:/c%3A/Users/Diana/Documents/Tareas%20Curso/config.ipynb#ch0000011?line=1'>2</a>\u001b[0m     water_left(\u001b[39m5\u001b[39;49m, \u001b[39m100\u001b[39;49m, \u001b[39m2\u001b[39;49m)\n\u001b[0;32m      <a href='vscode-notebook-cell:/c%3A/Users/Diana/Documents/Tareas%20Curso/config.ipynb#ch0000011?line=2'>3</a>\u001b[0m \u001b[39mexcept\u001b[39;00m \u001b[39mRuntimeError\u001b[39;00m \u001b[39mas\u001b[39;00m err:\n",
      "\u001b[1;32mc:\\Users\\Diana\\Documents\\Tareas Curso\\config.ipynb Cell 10'\u001b[0m in \u001b[0;36mwater_left\u001b[1;34m(astronauts, water_left, days_left)\u001b[0m\n\u001b[0;32m      <a href='vscode-notebook-cell:/c%3A/Users/Diana/Documents/Tareas%20Curso/config.ipynb#ch0000009?line=4'>5</a>\u001b[0m \u001b[39mif\u001b[39;00m total_water_left \u001b[39m<\u001b[39m \u001b[39m0\u001b[39m:\n\u001b[1;32m----> <a href='vscode-notebook-cell:/c%3A/Users/Diana/Documents/Tareas%20Curso/config.ipynb#ch0000009?line=5'>6</a>\u001b[0m     \u001b[39mraise\u001b[39;00m \u001b[39mRuntimeError\u001b[39;00m(\u001b[39mf\u001b[39m\u001b[39m\"\u001b[39m\u001b[39mThere is not enough water for \u001b[39m\u001b[39m{\u001b[39;00mastronauts\u001b[39m}\u001b[39;00m\u001b[39m astronauts after \u001b[39m\u001b[39m{\u001b[39;00mdays_left\u001b[39m}\u001b[39;00m\u001b[39m days!\u001b[39m\u001b[39m\"\u001b[39m)\n\u001b[0;32m      <a href='vscode-notebook-cell:/c%3A/Users/Diana/Documents/Tareas%20Curso/config.ipynb#ch0000009?line=6'>7</a>\u001b[0m \u001b[39mreturn\u001b[39;00m \u001b[39mf\u001b[39m\u001b[39m\"\u001b[39m\u001b[39mTotal water left after \u001b[39m\u001b[39m{\u001b[39;00mdays_left\u001b[39m}\u001b[39;00m\u001b[39m days is: \u001b[39m\u001b[39m{\u001b[39;00mtotal_water_left\u001b[39m}\u001b[39;00m\u001b[39m liters\u001b[39m\u001b[39m\"\u001b[39m\n",
      "\u001b[1;31mRuntimeError\u001b[0m: There is not enough water for 5 astronauts after 2 days!",
      "\nDuring handling of the above exception, another exception occurred:\n",
      "\u001b[1;31mNameError\u001b[0m                                 Traceback (most recent call last)",
      "\u001b[1;32mc:\\Users\\Diana\\Documents\\Tareas Curso\\config.ipynb Cell 11'\u001b[0m in \u001b[0;36m<module>\u001b[1;34m\u001b[0m\n\u001b[0;32m      <a href='vscode-notebook-cell:/c%3A/Users/Diana/Documents/Tareas%20Curso/config.ipynb#ch0000011?line=1'>2</a>\u001b[0m     water_left(\u001b[39m5\u001b[39m, \u001b[39m100\u001b[39m, \u001b[39m2\u001b[39m)\n\u001b[0;32m      <a href='vscode-notebook-cell:/c%3A/Users/Diana/Documents/Tareas%20Curso/config.ipynb#ch0000011?line=2'>3</a>\u001b[0m \u001b[39mexcept\u001b[39;00m \u001b[39mRuntimeError\u001b[39;00m \u001b[39mas\u001b[39;00m err:\n\u001b[1;32m----> <a href='vscode-notebook-cell:/c%3A/Users/Diana/Documents/Tareas%20Curso/config.ipynb#ch0000011?line=3'>4</a>\u001b[0m     alert_navigation_system(err)\n",
      "\u001b[1;31mNameError\u001b[0m: name 'alert_navigation_system' is not defined"
     ]
    }
   ],
   "source": [
    "try:\n",
    "    water_left(5, 100, 2)\n",
    "except RuntimeError as err:\n",
    "    alert_navigation_system(err)"
   ]
  },
  {
   "cell_type": "code",
   "execution_count": 20,
   "metadata": {},
   "outputs": [
    {
     "ename": "SyntaxError",
     "evalue": "unterminated string literal (detected at line 5) (587868481.py, line 5)",
     "output_type": "error",
     "traceback": [
      "\u001b[1;36m  Input \u001b[1;32mIn [20]\u001b[1;36m\u001b[0m\n\u001b[1;33m    TypeError: can't multiply sequence by non-int of type 'NoneType'\u001b[0m\n\u001b[1;37m                                                                   ^\u001b[0m\n\u001b[1;31mSyntaxError\u001b[0m\u001b[1;31m:\u001b[0m unterminated string literal (detected at line 5)\n"
     ]
    }
   ],
   "source": [
    "print (water_left(\"3\", \"200\", None))\n",
    "Traceback (most, recent, call, last):\n",
    "  File \"<stdin>\", line 1, in <module>\n",
    "  File \"<stdin>\", line 3, in water_left\n",
    "TypeError: can't multiply sequence by non-int of type 'NoneType'"
   ]
  },
  {
   "cell_type": "code",
   "execution_count": 22,
   "metadata": {},
   "outputs": [],
   "source": [
    "def water_left(astronauts, water_left, days_left):\n",
    "    for argument in [astronauts, water_left, days_left]:\n",
    "        try:\n",
    "            # If argument is an int, the following operation will work\n",
    "            argument / 10\n",
    "        except TypeError:\n",
    "            # TypError will be raised only if it isn't the right type \n",
    "            # Raise the same exception but with a better error message\n",
    "            raise TypeError(f\"All arguments must be of type int, but received: '{argument}'\")\n",
    "    daily_usage = astronauts * 11\n",
    "    total_usage = daily_usage * days_left\n",
    "    total_water_left = water_left - total_usage\n",
    "    if total_water_left < 0:\n",
    "        raise RuntimeError(f\"There is not enough water for {astronauts} astronauts after {days_left} days!\")\n",
    "    return f\"Total water left after {days_left} days is: {total_water_left} liters\""
   ]
  },
  {
   "cell_type": "code",
   "execution_count": 23,
   "metadata": {},
   "outputs": [
    {
     "ename": "SyntaxError",
     "evalue": "invalid syntax. Perhaps you forgot a comma? (138494628.py, line 2)",
     "output_type": "error",
     "traceback": [
      "\u001b[1;36m  Input \u001b[1;32mIn [23]\u001b[1;36m\u001b[0m\n\u001b[1;33m    Traceback (most recent call last):\u001b[0m\n\u001b[1;37m               ^\u001b[0m\n\u001b[1;31mSyntaxError\u001b[0m\u001b[1;31m:\u001b[0m invalid syntax. Perhaps you forgot a comma?\n"
     ]
    }
   ],
   "source": [
    "print (water_left(\"3\", \"200\", None))\n",
    "Traceback (most recent call last):\n",
    "  File \"<stdin>\", line 5, in water_left\n",
    "TypeError: unsupported operand type(s) for /: 'str' and 'int'\n"
   ]
  }
 ],
 "metadata": {
  "interpreter": {
   "hash": "85698077abecf5f8f113c53b9360fbacc8ad19c08c5e26cc1c8a281d6153204f"
  },
  "kernelspec": {
   "display_name": "Python 3.10.2 64-bit",
   "language": "python",
   "name": "python3"
  },
  "language_info": {
   "codemirror_mode": {
    "name": "ipython",
    "version": 3
   },
   "file_extension": ".py",
   "mimetype": "text/x-python",
   "name": "python",
   "nbconvert_exporter": "python",
   "pygments_lexer": "ipython3",
   "version": "3.10.2"
  },
  "orig_nbformat": 4
 },
 "nbformat": 4,
 "nbformat_minor": 2
}
