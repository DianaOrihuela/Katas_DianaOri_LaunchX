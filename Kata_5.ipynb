{
 "cells": [
  {
   "cell_type": "markdown",
   "metadata": {},
   "source": [
    "## Operadores aritméticos en Python"
   ]
  },
  {
   "cell_type": "code",
   "execution_count": 9,
   "metadata": {},
   "outputs": [
    {
     "name": "stdout",
     "output_type": "stream",
     "text": [
      "La distancia entre planetas es... \n",
      "\n",
      "Kilometros:  628949330\n",
      "\n",
      "Millas:  390577534\n"
     ]
    }
   ],
   "source": [
    "Dis_T = 149597870\n",
    "Dis_J = 778547200\n",
    "\n",
    "Dis_km = 778547200 - 149597870\n",
    "Dis_mi = Dis_km * 0.621\n",
    "\n",
    "print('La distancia entre estos planetas es... ' )\n",
    "print('\\nKilometros: ', Dis_km)\n",
    "print('\\nMillas: ', round(Dis_mi))"
   ]
  },
  {
   "cell_type": "markdown",
   "metadata": {},
   "source": [
    "## Convirtiendo cadenas"
   ]
  },
  {
   "cell_type": "code",
   "execution_count": 16,
   "metadata": {},
   "outputs": [
    {
     "name": "stdout",
     "output_type": "stream",
     "text": [
      "La distancia entre estos planetas es...\n",
      "\n",
      "Kilometros:  5\n",
      "\n",
      "Millas:  3\n"
     ]
    }
   ],
   "source": [
    "Dis_P1 = input(\"¿Cuál es la distancia del sol al planeta 1?\")\n",
    "Dis_P2 = input(\"¿Cuál es la distancia del sol al planeta 2?\")\n",
    "\n",
    "Dis_P1 = int(Dis_P1)\n",
    "Dis_P2 = int(Dis_P2)\n",
    "D_km = abs(Dis_P1 - Dis_P2)\n",
    "D_mi = D_km * 0.621\n",
    "\n",
    "print('La distancia entre estos planetas es...')\n",
    "print('\\nKilometros: ', round(D_km))\n",
    "print('\\nMillas: ', round(D_mi))"
   ]
  }
 ],
 "metadata": {
  "interpreter": {
   "hash": "85698077abecf5f8f113c53b9360fbacc8ad19c08c5e26cc1c8a281d6153204f"
  },
  "kernelspec": {
   "display_name": "Python 3.10.2 64-bit",
   "language": "python",
   "name": "python3"
  },
  "language_info": {
   "codemirror_mode": {
    "name": "ipython",
    "version": 3
   },
   "file_extension": ".py",
   "mimetype": "text/x-python",
   "name": "python",
   "nbconvert_exporter": "python",
   "pygments_lexer": "ipython3",
   "version": "3.10.2"
  },
  "orig_nbformat": 4
 },
 "nbformat": 4,
 "nbformat_minor": 2
}
