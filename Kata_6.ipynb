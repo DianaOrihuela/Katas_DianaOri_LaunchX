{
 "cells": [
  {
   "cell_type": "markdown",
   "metadata": {},
   "source": [
    "## Crear y usar listas"
   ]
  },
  {
   "cell_type": "code",
   "execution_count": 33,
   "metadata": {},
   "outputs": [
    {
     "name": "stdout",
     "output_type": "stream",
     "text": [
      "Mercurio ,  Venus ,  Tierra ,  Marte ,  Jupiter ,  Saturno ,  Urano  y  Neptuno\n"
     ]
    }
   ],
   "source": [
    "planets = ['Mercurio', 'Venus', 'Tierra', 'Marte', 'Jupiter', 'Saturno', 'Urano', 'Neptuno']\n",
    "\n",
    "print(planets[0],', ', planets[1],', ', planets[2],', ', planets[3],', ', planets[4],', ', planets[5],', ', planets[6],' y ', planets[7])"
   ]
  },
  {
   "cell_type": "code",
   "execution_count": 34,
   "metadata": {},
   "outputs": [],
   "source": [
    "planets.append('Plutón')"
   ]
  },
  {
   "cell_type": "code",
   "execution_count": 35,
   "metadata": {},
   "outputs": [
    {
     "name": "stdout",
     "output_type": "stream",
     "text": [
      "El numero de planetas es  9 y su ultimo planeta es  Plutón\n"
     ]
    }
   ],
   "source": [
    "num_planets = len(planets)\n",
    "print('El numero de planetas es ',num_planets,'y su ultimo planeta es ',planets[8])"
   ]
  },
  {
   "cell_type": "markdown",
   "metadata": {},
   "source": [
    "## Datos de una lista"
   ]
  },
  {
   "cell_type": "code",
   "execution_count": 38,
   "metadata": {},
   "outputs": [
    {
     "name": "stdout",
     "output_type": "stream",
     "text": [
      "Los planetas más cercanos al sol antes del planeta que ingreso son:  ['Mercurio', 'Venus', 'Tierra']\n",
      "Los planetas más lejanos al sol despues del planeta que ingreso son:  ['Jupiter', 'Saturno', 'Urano', 'Neptuno', 'Plutón']\n"
     ]
    }
   ],
   "source": [
    "Planeta = input('¿Que planeta desea encontrar?, (por favor inicie con mayuscula): ')\n",
    "Buscar_plan = planets.index(Planeta)\n",
    "Pla_Cerca = planets[0: Buscar_plan ]\n",
    "Pla_Lejos = planets[ Buscar_plan+1 : ]\n",
    "print('Los planetas más cercanos al sol antes del planeta que ingreso son: ',Pla_Cerca)\n",
    "print('Los planetas más lejanos al sol despues del planeta que ingreso son: ',Pla_Lejos)"
   ]
  }
 ],
 "metadata": {
  "interpreter": {
   "hash": "85698077abecf5f8f113c53b9360fbacc8ad19c08c5e26cc1c8a281d6153204f"
  },
  "kernelspec": {
   "display_name": "Python 3.10.2 64-bit",
   "language": "python",
   "name": "python3"
  },
  "language_info": {
   "codemirror_mode": {
    "name": "ipython",
    "version": 3
   },
   "file_extension": ".py",
   "mimetype": "text/x-python",
   "name": "python",
   "nbconvert_exporter": "python",
   "pygments_lexer": "ipython3",
   "version": "3.10.2"
  },
  "orig_nbformat": 4
 },
 "nbformat": 4,
 "nbformat_minor": 2
}
