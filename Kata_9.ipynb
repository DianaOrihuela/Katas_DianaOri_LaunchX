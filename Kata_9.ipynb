{
 "cells": [
  {
   "cell_type": "markdown",
   "metadata": {},
   "source": [
    "## Argumentos"
   ]
  },
  {
   "cell_type": "code",
   "execution_count": 14,
   "metadata": {},
   "outputs": [],
   "source": [
    "def Tanques(Tanque_P, Tanque_E, Tanque_H):\n",
    "    promedio = (Tanque_P + Tanque_E + Tanque_H)/3\n",
    "    return f\"\"\"Reporte:\n",
    "    Promedio: {promedio}%\n",
    "    Tanque principal: {Tanque_P}%\n",
    "    Tanque exterior: {Tanque_E}%\n",
    "    Tanque de Hidrogeno: {Tanque_H}% \n",
    "    \"\"\""
   ]
  },
  {
   "cell_type": "code",
   "execution_count": 15,
   "metadata": {},
   "outputs": [
    {
     "name": "stdout",
     "output_type": "stream",
     "text": [
      "Reporte:\n",
      "    Promedio: 80.0%\n",
      "    Tanque principal: 80%\n",
      "    Tanque exterior: 75%\n",
      "    Tanque de Hidrogeno: 85% \n",
      "    \n"
     ]
    }
   ],
   "source": [
    "print(Tanques(80,75,85))"
   ]
  },
  {
   "cell_type": "code",
   "execution_count": 16,
   "metadata": {},
   "outputs": [
    {
     "data": {
      "text/plain": [
       "82.0"
      ]
     },
     "execution_count": 16,
     "metadata": {},
     "output_type": "execute_result"
    }
   ],
   "source": [
    "def promedio(values):\n",
    "    total = sum (values)\n",
    "    numero_de_items = len(values)\n",
    "    return total/numero_de_items\n",
    "promedio([80,85,81])"
   ]
  },
  {
   "cell_type": "code",
   "execution_count": 17,
   "metadata": {},
   "outputs": [
    {
     "name": "stdout",
     "output_type": "stream",
     "text": [
      "Reporte:\n",
      "    Promedio: 78.0%\n",
      "    Tanque principal: 88%\n",
      "    Tanque externo: 76%\n",
      "    Tanque de Hidrogeno: 70\n",
      "    \n"
     ]
    }
   ],
   "source": [
    "def Tanques(Tanque_P, Tanque_E, Tanque_H):\n",
    "    promedio = (Tanque_P+Tanque_E+Tanque_H)/3\n",
    "    return f\"\"\"Reporte:\n",
    "    Promedio: {promedio}%\n",
    "    Tanque principal: {Tanque_P}%\n",
    "    Tanque externo: {Tanque_E}%\n",
    "    Tanque de Hidrogeno: {Tanque_H}\n",
    "    \"\"\"\n",
    "print(Tanques(88,76,70))"
   ]
  },
  {
   "cell_type": "markdown",
   "metadata": {},
   "source": [
    "## Palabras clave"
   ]
  },
  {
   "cell_type": "code",
   "execution_count": 18,
   "metadata": {},
   "outputs": [
    {
     "name": "stdout",
     "output_type": "stream",
     "text": [
      "\n",
      "    Mision hacia Moon\n",
      "    Tiempo total del viaje: 65 minutos\n",
      "    Combustible total restante: 230000 gallons\n",
      "    \n"
     ]
    }
   ],
   "source": [
    "def reporte_mision(hr_prelanz, hr_vuelo, destino, Tan_E, Tan_P):\n",
    "    return f\"\"\"\n",
    "    Mision hacia {destino}\n",
    "    Tiempo total del viaje: {hr_prelanz+hr_vuelo} minutos\n",
    "    Combustible total restante: {Tan_E+Tan_P} gallons\n",
    "    \"\"\"\n",
    "print(reporte_mision(14,51,\"Moon\",200000,30000))"
   ]
  },
  {
   "cell_type": "code",
   "execution_count": 20,
   "metadata": {},
   "outputs": [
    {
     "name": "stdout",
     "output_type": "stream",
     "text": [
      "\n",
      "    Mision hacia Moon\n",
      "    Tiempo total de viaje: 76 minutos\n",
      "    Combustible total restante: 500000\n",
      "    \n"
     ]
    }
   ],
   "source": [
    "def reporte_mision(destino, *minutos, **deposito_combustible):\n",
    "    return f\"\"\"\n",
    "    Mision hacia {destino}\n",
    "    Tiempo total de viaje: {sum(minutos)} minutos\n",
    "    Combustible total restante: {sum(deposito_combustible.values())}\n",
    "    \"\"\"\n",
    "print(reporte_mision(\"Moon\", 10, 15, 51, P=300000, E=200000))"
   ]
  },
  {
   "cell_type": "code",
   "execution_count": 21,
   "metadata": {},
   "outputs": [
    {
     "name": "stdout",
     "output_type": "stream",
     "text": [
      "\n",
      "    Mision hacia Moon\n",
      "    Tiempo total de viaje: 74 minutos\n",
      "    Combustible total restante: 500000\n",
      "    P Tan --> 300000 galones quedan\n",
      "E Tan --> 200000 galones quedan\n",
      "\n"
     ]
    }
   ],
   "source": [
    "def reporte_mision(destino, *minutos, **deposito_combustible):\n",
    "    reporte_principal = f\"\"\"\n",
    "    Mision hacia {destino}\n",
    "    Tiempo total de viaje: {sum(minutos)} minutos\n",
    "    Combustible total restante: {sum(deposito_combustible.values())}\n",
    "    \"\"\"\n",
    "    for Tan_name, gallons in deposito_combustible.items():\n",
    "        reporte_principal += f\"{Tan_name} Tan --> {gallons} galones quedan\\n\"\n",
    "    return reporte_principal\n",
    "print(reporte_mision(\"Moon\", 8,11,55,P=300000,E=200000))\n"
   ]
  }
 ],
 "metadata": {
  "interpreter": {
   "hash": "85698077abecf5f8f113c53b9360fbacc8ad19c08c5e26cc1c8a281d6153204f"
  },
  "kernelspec": {
   "display_name": "Python 3.10.2 64-bit",
   "language": "python",
   "name": "python3"
  },
  "language_info": {
   "codemirror_mode": {
    "name": "ipython",
    "version": 3
   },
   "file_extension": ".py",
   "mimetype": "text/x-python",
   "name": "python",
   "nbconvert_exporter": "python",
   "pygments_lexer": "ipython3",
   "version": "3.10.2"
  },
  "orig_nbformat": 4
 },
 "nbformat": 4,
 "nbformat_minor": 2
}
